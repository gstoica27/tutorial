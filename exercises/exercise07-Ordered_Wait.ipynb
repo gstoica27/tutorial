{
 "cells": [
  {
   "cell_type": "markdown",
   "metadata": {},
   "source": [
    "# Exercise 7 - Process Tasks in Order of Completion\n",
    "\n",
    "**GOAL:** The goal of this exercise is to show how to use `ray.wait` to process tasks in the order that they finish.\n",
    "\n",
    "See the documentation for ray.wait at https://ray.readthedocs.io/en/latest/api.html#ray.wait.\n",
    "\n",
    "## Concepts for this exercise - `ray.wait`\n",
    "\n",
    "After launching a number of tasks, you may want to run the results sequentially. To do so, we build off of exercise 6 and use `ray.wait` to execute the results sequentially. \n",
    "\n",
    "We are able to use `ray.wait` because the two lists returned by **`ray.wait` maintains the ordering of the input list**. That is, if `f` is a remote function, the code \n",
    "```python\n",
    "    results = ray.wait([f.remote(i) for i in range(100)], num_results=10)\n",
    "```\n",
    "will return `(ready_list, remain_list)` and the `ObjectID`s of in those lists will be ordered by the argument passed to `f` above."
   ]
  },
  {
   "cell_type": "code",
<<<<<<< HEAD:exercises/exercise07.ipynb
   "execution_count": 1,
=======
   "execution_count": null,
>>>>>>> 5fdb94d29778d2841ead72d537eb2707ceb19e5b:exercises/exercise07-Ordered_Wait.ipynb
   "metadata": {},
   "outputs": [],
   "source": [
    "from __future__ import absolute_import\n",
    "from __future__ import division\n",
    "from __future__ import print_function\n",
    "\n",
    "import numpy as np\n",
    "import ray\n",
    "import time"
   ]
  },
  {
   "cell_type": "code",
   "execution_count": 2,
   "metadata": {},
   "outputs": [
    {
     "name": "stderr",
     "output_type": "stream",
     "text": [
      "WARNING: Not updating worker name since `setproctitle` is not installed. Install this with `pip install setproctitle` (or ray[debug]) to enable monitoring of worker processes.\n",
      "Process STDOUT and STDERR is being redirected to /tmp/ray/session_2019-03-29_17-31-52_73871/logs.\n",
      "Waiting for redis server at 127.0.0.1:42397 to respond...\n",
      "Waiting for redis server at 127.0.0.1:42684 to respond...\n",
      "Starting Redis shard with 10.0 GB max memory.\n",
      "Starting the Plasma object store with 13.743895347 GB memory using /tmp.\n"
     ]
    },
    {
     "data": {
      "text/plain": [
       "{'node_ip_address': None,\n",
       " 'redis_address': '10.0.0.185:42397',\n",
       " 'object_store_address': '/tmp/ray/session_2019-03-29_17-31-52_73871/sockets/plasma_store',\n",
       " 'webui_url': None,\n",
       " 'raylet_socket_name': '/tmp/ray/session_2019-03-29_17-31-52_73871/sockets/raylet'}"
      ]
     },
     "execution_count": 2,
     "metadata": {},
     "output_type": "execute_result"
    }
   ],
   "source": [
    "ray.init(num_cpus=5, include_webui=False, ignore_reinit_error=True)"
   ]
  },
  {
   "cell_type": "code",
<<<<<<< HEAD:exercises/exercise07.ipynb
   "execution_count": 3,
=======
   "execution_count": null,
>>>>>>> 5fdb94d29778d2841ead72d537eb2707ceb19e5b:exercises/exercise07-Ordered_Wait.ipynb
   "metadata": {},
   "outputs": [],
   "source": [
    "@ray.remote\n",
    "def f():\n",
    "    time.sleep(np.random.uniform(0, 5))\n",
    "    return time.time()"
   ]
  },
  {
   "cell_type": "markdown",
   "metadata": {},
   "source": [
    "**EXERCISE:** Change the code below to use `ray.wait` to get the results of the tasks in the order that they complete.\n",
    "\n",
    "**NOTE:** It would be a simple modification to maintain a pool of 10 experiments and to start a new experiment whenever one finishes."
   ]
  },
  {
   "cell_type": "code",
   "execution_count": 5,
   "metadata": {},
   "outputs": [
    {
     "name": "stdout",
     "output_type": "stream",
     "text": [
      "Processing result which finished after 0.17941498756408691 seconds.\n",
      "Processing result which finished after 0.4262661933898926 seconds.\n",
      "Processing result which finished after 1.8234460353851318 seconds.\n",
      "Processing result which finished after 2.0267271995544434 seconds.\n",
      "Processing result which finished after 2.5471081733703613 seconds.\n",
      "Processing result which finished after 3.011484146118164 seconds.\n",
      "Processing result which finished after 3.9464590549468994 seconds.\n",
      "Processing result which finished after 4.212627172470093 seconds.\n",
      "Processing result which finished after 5.197009086608887 seconds.\n",
      "Processing result which finished after 6.213633060455322 seconds.\n"
     ]
    }
   ],
   "source": [
    "# Sleep a little to improve the accuracy of the timing measurements below.\n",
    "time.sleep(2.0)\n",
    "start_time = time.time()\n",
    "\n",
    "result_ids = [f.remote() for _ in range(10)]\n",
    "\n",
    "# Get the results.\n",
    "results = []\n",
    "# for result_id in result_ids:\n",
    "#     result = ray.get(result_id)\n",
    "#     results.append(result)\n",
    "#     print('Processing result which finished after {} seconds.'\n",
    "#           .format(result - start_time))\n",
    "\n",
    "while len(result_ids) > 0:\n",
    "    finished_id, remaining_ids = ray.wait(result_ids, num_returns=1, timeout=None)\n",
    "    result = ray.get(finished_id)[0]\n",
    "    print('Processing result which finished after {} seconds.'\n",
    "          .format(result - start_time))\n",
    "    result_ids = remaining_ids\n",
    "    \n",
    "    \n",
    "end_time = time.time()\n",
    "duration = end_time - start_time"
   ]
  },
  {
   "cell_type": "markdown",
   "metadata": {},
   "source": [
    "**VERIFY:** Run some checks to verify that the changes you made to the code were correct. Some of the checks should fail when you initially run the cells. After completing the exercises, the checks should pass."
   ]
  },
  {
   "cell_type": "code",
   "execution_count": 6,
   "metadata": {},
   "outputs": [
    {
     "name": "stdout",
     "output_type": "stream",
     "text": [
      "Success! The example took 6.2153990268707275 seconds.\n"
     ]
    }
   ],
   "source": [
    "assert results == sorted(results), ('The results were not processed in the '\n",
    "                                    'order that they finished.')\n",
    "\n",
    "print('Success! The example took {} seconds.'.format(duration))"
   ]
  },
  {
   "cell_type": "code",
   "execution_count": null,
   "metadata": {},
   "outputs": [],
   "source": []
  }
 ],
 "metadata": {
  "kernelspec": {
   "display_name": "Python 3",
   "language": "python",
   "name": "python3"
  },
  "language_info": {
   "codemirror_mode": {
    "name": "ipython",
    "version": 3
   },
   "file_extension": ".py",
   "mimetype": "text/x-python",
   "name": "python",
   "nbconvert_exporter": "python",
   "pygments_lexer": "ipython3",
<<<<<<< HEAD:exercises/exercise07.ipynb
   "version": "3.6.5"
=======
   "version": "3.6.1"
  },
  "toc": {
   "base_numbering": 1,
   "nav_menu": {},
   "number_sections": false,
   "sideBar": true,
   "skip_h1_title": false,
   "title_cell": "Table of Contents",
   "title_sidebar": "Contents",
   "toc_cell": false,
   "toc_position": {},
   "toc_section_display": true,
   "toc_window_display": true
>>>>>>> 5fdb94d29778d2841ead72d537eb2707ceb19e5b:exercises/exercise07-Ordered_Wait.ipynb
  }
 },
 "nbformat": 4,
 "nbformat_minor": 2
}
